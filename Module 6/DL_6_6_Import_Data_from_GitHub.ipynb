{
  "nbformat": 4,
  "nbformat_minor": 0,
  "metadata": {
    "colab": {
      "provenance": []
    },
    "kernelspec": {
      "name": "python3",
      "display_name": "Python 3"
    },
    "language_info": {
      "name": "python"
    }
  },
  "cells": [
    {
      "cell_type": "markdown",
      "source": [
        "# Import Data From GitHub"
      ],
      "metadata": {
        "id": "piiqr2l6pVAs"
      }
    },
    {
      "cell_type": "code",
      "execution_count": null,
      "metadata": {
        "id": "sxgflrjNpTtm"
      },
      "outputs": [],
      "source": [
        "import pandas as pd\n",
        "\n",
        "url = 'https://raw.githubusercontent.com/BivinSadler/Data_Literacy_Business/main/Balance.csv'\n",
        "\n",
        "Balance = pd.read_csv(url)\n",
        "\n",
        "display(Balance)"
      ]
    }
  ]
}